{
 "cells": [
  {
   "cell_type": "code",
   "execution_count": 25,
   "id": "divided-tiger",
   "metadata": {},
   "outputs": [],
   "source": [
    "import requests\n",
    "#from bs4 import beatifulsoup4\n",
    "import pandas as pd\n",
    "import csv\n",
    "from requests_html import HTML, HTMLSession\n"
   ]
  },
  {
   "cell_type": "code",
   "execution_count": 92,
   "id": "hearing-chaos",
   "metadata": {},
   "outputs": [
    {
     "data": {
      "text/plain": [
       "'https://betamasaheft.eu/manuscripts/EMML6413.xml'"
      ]
     },
     "execution_count": 92,
     "metadata": {},
     "output_type": "execute_result"
    }
   ],
   "source": [
    "googleSheetId = '1NpRDeQECB33fKK4n48k8BSpW1MbbGanxECDlc9g6WnI'\n",
    "\n",
    "workSheetName = 'sheet2'\n",
    "\n",
    "url = 'https://docs.google.com/spreadsheets/d/{0}/gviz/tq?tqx=out:csv&sheet={1}'.format(\n",
    "    googleSheetId, \n",
    "    workSheetName\n",
    ")\n",
    "\n",
    "\n",
    "df = pd.read_csv(url)\n",
    "\n",
    "df['record'][0]"
   ]
  },
  {
   "cell_type": "code",
   "execution_count": 78,
   "id": "pleased-category",
   "metadata": {},
   "outputs": [
    {
     "name": "stdout",
     "output_type": "stream",
     "text": [
      "\n"
     ]
    }
   ],
   "source": [
    "print()"
   ]
  },
  {
   "cell_type": "code",
   "execution_count": 94,
   "id": "parental-heather",
   "metadata": {},
   "outputs": [
    {
     "ename": "AttributeError",
     "evalue": "'NoneType' object has no attribute 'text'",
     "output_type": "error",
     "traceback": [
      "\u001b[0;31m---------------------------------------------------------------------------\u001b[0m",
      "\u001b[0;31mAttributeError\u001b[0m                            Traceback (most recent call last)",
      "\u001b[0;32m<ipython-input-94-7f454e748736>\u001b[0m in \u001b[0;36m<module>\u001b[0;34m\u001b[0m\n\u001b[1;32m     13\u001b[0m     \u001b[0;31m# notAfter = r.html.find('origDate', first=True).attrs['notAfter']\u001b[0m\u001b[0;34m\u001b[0m\u001b[0;34m\u001b[0m\u001b[0;34m\u001b[0m\u001b[0m\n\u001b[1;32m     14\u001b[0m     \u001b[0;31m# notBefore = r.html.find('origDate',first=True).attrs['notBefore']\u001b[0m\u001b[0;34m\u001b[0m\u001b[0;34m\u001b[0m\u001b[0;34m\u001b[0m\u001b[0m\n\u001b[0;32m---> 15\u001b[0;31m     \u001b[0morigDate\u001b[0m \u001b[0;34m=\u001b[0m \u001b[0mr\u001b[0m\u001b[0;34m.\u001b[0m\u001b[0mhtml\u001b[0m\u001b[0;34m.\u001b[0m\u001b[0mfind\u001b[0m\u001b[0;34m(\u001b[0m\u001b[0;34m'origDate'\u001b[0m\u001b[0;34m,\u001b[0m \u001b[0mfirst\u001b[0m\u001b[0;34m=\u001b[0m\u001b[0;32mTrue\u001b[0m\u001b[0;34m)\u001b[0m\u001b[0;34m.\u001b[0m\u001b[0mtext\u001b[0m\u001b[0;34m\u001b[0m\u001b[0;34m\u001b[0m\u001b[0m\n\u001b[0m\u001b[1;32m     16\u001b[0m     \u001b[0mprovenance\u001b[0m \u001b[0;34m=\u001b[0m \u001b[0mr\u001b[0m\u001b[0;34m.\u001b[0m\u001b[0mhtml\u001b[0m\u001b[0;34m.\u001b[0m\u001b[0mfind\u001b[0m\u001b[0;34m(\u001b[0m\u001b[0;34m'provenance'\u001b[0m\u001b[0;34m,\u001b[0m \u001b[0mfirst\u001b[0m\u001b[0;34m=\u001b[0m\u001b[0;32mTrue\u001b[0m\u001b[0;34m)\u001b[0m\u001b[0;34m.\u001b[0m\u001b[0mtext\u001b[0m\u001b[0;34m\u001b[0m\u001b[0;34m\u001b[0m\u001b[0m\n\u001b[1;32m     17\u001b[0m     \u001b[0;31m# except Exception as e:\u001b[0m\u001b[0;34m\u001b[0m\u001b[0;34m\u001b[0m\u001b[0;34m\u001b[0m\u001b[0m\n",
      "\u001b[0;31mAttributeError\u001b[0m: 'NoneType' object has no attribute 'text'"
     ]
    }
   ],
   "source": [
    "session = HTMLSession()\n",
    "\n",
    "dict_copy = df.to_dict('record')\n",
    "for r in dict_copy:\n",
    "    r = r['record']\n",
    "    r = session.get(r)\n",
    "    title = r.html.find('title', first=True).text\n",
    "    permalink = r.html.find('ref', first=True).attrs['target']\n",
    "    repository = r.html.find('repository', first=True).attrs['ref']\n",
    "    collection = r.html.find('collection', first=True).text\n",
    "#     leaf = r.html.find('measure',first=True).text\n",
    "#     decoNote = r.html.find('desc', first=True).text\n",
    "    # notAfter = r.html.find('origDate', first=True).attrs['notAfter']\n",
    "    # notBefore = r.html.find('origDate',first=True).attrs['notBefore']\n",
    "    origDate = r.html.find('origDate', first=True).text\n",
    "    provenance = r.html.find('provenance', first=True).text\n",
    "    # except Exception as e:\n",
    "    decoNote=None\n",
    "    notAfter=None\n",
    "    notBefore=None\n",
    "    HTTPS_Status=200\n",
    "    leaf=None\n",
    "    columns = [title, permalink, repository, collection, leaf, \n",
    "               decoNote, notBefore, notAfter, origDate, provenance,HTTPS_Status]\n",
    "    columns = [title, permalink, repository, collection, leaf, \n",
    "               decoNote, notBefore, notAfter, origDate, provenance,HTTPS_Status]\n",
    "    \n",
    "    manuscripts = pd.DataFrame(columns=columns)\n",
    "    manuscripts.to_csv('manuscripts.csv', mode='a')\n",
    "\n",
    "\n",
    "\n",
    "\n",
    "# # try:\n",
    "\n",
    "# title = r.html.find('title', first=True).text\n",
    "# permalink = r.html.find('ref', first=True).attrs['target']\n",
    "# repository = r.html.find('repository', first=True).attrs['ref']\n",
    "# collection = r.html.find('collection', first=True).text\n",
    "# leaf = r.html.find('measure',first=True).text\n",
    "# # decoNote = r.html.find('desc', first=True).text\n",
    "# # notAfter = r.html.find('origDate', first=True).attrs['notAfter']\n",
    "# # notBefore = r.html.find('origDate',first=True).attrs['notBefore']\n",
    "# origDate = r.html.find('origDate', first=True).text\n",
    "# provenance = r.html.find('provenance', first=True).text\n",
    "# # except Exception as e:\n",
    "# decoNote=None\n",
    "# notAfter=None\n",
    "# notBefore=None\n",
    "# HTTPS_Status=200\n",
    "\n",
    "\n",
    "\n",
    "    \n",
    "    \n",
    "    \n",
    "\n"
   ]
  },
  {
   "cell_type": "code",
   "execution_count": null,
   "id": "ranking-engineering",
   "metadata": {},
   "outputs": [],
   "source": []
  },
  {
   "cell_type": "code",
   "execution_count": null,
   "id": "handmade-calvin",
   "metadata": {},
   "outputs": [],
   "source": []
  },
  {
   "cell_type": "code",
   "execution_count": null,
   "id": "cubic-remains",
   "metadata": {},
   "outputs": [],
   "source": []
  }
 ],
 "metadata": {
  "kernelspec": {
   "display_name": "Python 3",
   "language": "python",
   "name": "python3"
  },
  "language_info": {
   "codemirror_mode": {
    "name": "ipython",
    "version": 3
   },
   "file_extension": ".py",
   "mimetype": "text/x-python",
   "name": "python",
   "nbconvert_exporter": "python",
   "pygments_lexer": "ipython3",
   "version": "3.8.5"
  }
 },
 "nbformat": 4,
 "nbformat_minor": 5
}
