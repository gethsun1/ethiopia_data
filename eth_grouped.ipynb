{
 "cells": [
  {
   "cell_type": "code",
   "execution_count": 1,
   "id": "eight-ukraine",
   "metadata": {},
   "outputs": [],
   "source": [
    "import pandas as pd\n",
    "import folium"
   ]
  },
  {
   "cell_type": "code",
   "execution_count": 2,
   "id": "quick-multimedia",
   "metadata": {},
   "outputs": [],
   "source": [
    "googleSheetId = '1Yjk75jFIOdj0GXBjS_ok7CV96KlB8EKOWFuL9dwV1E4'\n",
    "\n",
    "workSheetName = 'Known_coordinates'\n",
    "\n",
    "url = 'https://docs.google.com/spreadsheets/d/{0}/gviz/tq?tqx=out:csv&sheet={1}'.format(\n",
    "    googleSheetId, \n",
    "    workSheetName\n",
    ")\n",
    "\n",
    "df = pd.read_csv(url)\n",
    "\n"
   ]
  },
  {
   "cell_type": "code",
   "execution_count": 139,
   "id": "alert-legislation",
   "metadata": {},
   "outputs": [],
   "source": [
    "pd.set_option('display.max_rows', 127)\n",
    "df.dropna(axis='columns', how='all', inplace=True)"
   ]
  },
  {
   "cell_type": "code",
   "execution_count": 126,
   "id": "developing-porcelain",
   "metadata": {},
   "outputs": [],
   "source": [
    "cent_df=df.groupby(['Latitude'])"
   ]
  },
  {
   "cell_type": "code",
   "execution_count": 127,
   "id": "accessory-cocktail",
   "metadata": {},
   "outputs": [],
   "source": [
    "cent_dfi = cent_df['Century'].value_counts()"
   ]
  },
  {
   "cell_type": "code",
   "execution_count": 134,
   "id": "blank-fighter",
   "metadata": {},
   "outputs": [],
   "source": [
    "cent_dfi = cent_dfi.drop(columns='Century')"
   ]
  },
  {
   "cell_type": "code",
   "execution_count": 132,
   "id": "unsigned-title",
   "metadata": {},
   "outputs": [],
   "source": [
    "cent_dfii=cent_dfii.drop(columns='Century')\n"
   ]
  },
  {
   "cell_type": "code",
   "execution_count": 135,
   "id": "soviet-production",
   "metadata": {},
   "outputs": [
    {
     "data": {
      "text/plain": [
       "Longitude  Century\n",
       "37.36026   17          1\n",
       "37.46760   18         14\n",
       "           17          9\n",
       "           15          3\n",
       "           16          1\n",
       "37.72578   19          2\n",
       "37.97223   18          3\n",
       "38.27596   19          1\n",
       "38.70371   20          1\n",
       "38.71515   20          1\n",
       "38.71711   20          3\n",
       "           19          2\n",
       "           16          1\n",
       "           17          1\n",
       "           18          1\n",
       "38.72335   20          4\n",
       "38.72761   19          1\n",
       "38.73706   20          2\n",
       "38.75369   20          1\n",
       "38.75800   16          2\n",
       "           18          2\n",
       "           19          2\n",
       "38.76187   18          1\n",
       "38.77200   19          5\n",
       "           20          5\n",
       "38.77222   19          2\n",
       "           20          1\n",
       "38.77560   20          2\n",
       "           19          1\n",
       "38.78174   19          1\n",
       "38.79112   17          1\n",
       "           20          1\n",
       "39.04521   16          1\n",
       "39.04561   15          1\n",
       "39.17335   19          1\n",
       "39.26194   16          3\n",
       "39.29217   16          1\n",
       "39.33426   18          1\n",
       "39.35964   14          1\n",
       "39.37868   19          1\n",
       "           20          1\n",
       "39.40431   16          1\n",
       "39.40653   19          1\n",
       "39.41667   18          1\n",
       "39.43503   20          1\n",
       "39.44767   18          1\n",
       "39.45108   20          1\n",
       "39.51701   15          1\n",
       "39.51811   19          1\n",
       "39.55528   17          1\n",
       "39.59867   20          1\n",
       "39.60086   18          1\n",
       "39.60775   17          1\n",
       "39.67698   19          2\n",
       "           17          1\n",
       "39.69241   16          2\n",
       "39.69743   17          5\n",
       "           16          2\n",
       "           18          2\n",
       "           19          1\n",
       "39.73325   19          1\n",
       "           20          1\n",
       "39.73460   17          1\n",
       "39.73461   17          1\n",
       "           19          1\n",
       "39.73582   16          1\n",
       "           19          1\n",
       "39.75000   16          1\n",
       "           17          1\n",
       "39.78255   17          1\n",
       "39.83159   15          1\n",
       "Name: Century, dtype: int64"
      ]
     },
     "execution_count": 135,
     "metadata": {},
     "output_type": "execute_result"
    }
   ],
   "source": [
    "cent_dfii"
   ]
  },
  {
   "cell_type": "code",
   "execution_count": 147,
   "id": "processed-blend",
   "metadata": {},
   "outputs": [],
   "source": [
    "cent_dfv= pd.concat([cent_dfi, cent_dfii], axis='columns')"
   ]
  },
  {
   "cell_type": "code",
   "execution_count": 149,
   "id": "judicial-ultimate",
   "metadata": {},
   "outputs": [],
   "source": [
    "pd.set_option('display.max_rows', 142)\n",
    "cent_dfv.to_csv('cent_df.csv')"
   ]
  },
  {
   "cell_type": "code",
   "execution_count": 122,
   "id": "silent-franklin",
   "metadata": {},
   "outputs": [
    {
     "data": {
      "text/html": [
       "<div>\n",
       "<style scoped>\n",
       "    .dataframe tbody tr th:only-of-type {\n",
       "        vertical-align: middle;\n",
       "    }\n",
       "\n",
       "    .dataframe tbody tr th {\n",
       "        vertical-align: top;\n",
       "    }\n",
       "\n",
       "    .dataframe thead th {\n",
       "        text-align: right;\n",
       "    }\n",
       "</style>\n",
       "<table border=\"1\" class=\"dataframe\">\n",
       "  <thead>\n",
       "    <tr style=\"text-align: right;\">\n",
       "      <th></th>\n",
       "      <th></th>\n",
       "    </tr>\n",
       "    <tr>\n",
       "      <th></th>\n",
       "      <th>Century</th>\n",
       "    </tr>\n",
       "  </thead>\n",
       "  <tbody>\n",
       "    <tr>\n",
       "      <th rowspan=\"2\" valign=\"top\">8.86824</th>\n",
       "      <th>17</th>\n",
       "    </tr>\n",
       "    <tr>\n",
       "      <th>20</th>\n",
       "    </tr>\n",
       "    <tr>\n",
       "      <th rowspan=\"3\" valign=\"top\">8.98530</th>\n",
       "      <th>16</th>\n",
       "    </tr>\n",
       "    <tr>\n",
       "      <th>17</th>\n",
       "    </tr>\n",
       "    <tr>\n",
       "      <th>18</th>\n",
       "    </tr>\n",
       "    <tr>\n",
       "      <th>...</th>\n",
       "      <th>...</th>\n",
       "    </tr>\n",
       "    <tr>\n",
       "      <th>39.73582</th>\n",
       "      <th>19</th>\n",
       "    </tr>\n",
       "    <tr>\n",
       "      <th rowspan=\"2\" valign=\"top\">39.75000</th>\n",
       "      <th>16</th>\n",
       "    </tr>\n",
       "    <tr>\n",
       "      <th>17</th>\n",
       "    </tr>\n",
       "    <tr>\n",
       "      <th>39.78255</th>\n",
       "      <th>17</th>\n",
       "    </tr>\n",
       "    <tr>\n",
       "      <th>39.83159</th>\n",
       "      <th>15</th>\n",
       "    </tr>\n",
       "  </tbody>\n",
       "</table>\n",
       "<p>142 rows × 0 columns</p>\n",
       "</div>"
      ],
      "text/plain": [
       "Empty DataFrame\n",
       "Columns: []\n",
       "Index: [(8.86824, 17), (8.86824, 20), (8.9853, 16), (8.9853, 17), (8.9853, 18), (8.9853, 19), (8.9853, 20), (9.00456, 20), (9.01039, 20), (9.01059, 19), (9.01059, 20), (9.02862, 20), (9.03679, 18), (9.04673, 16), (9.04673, 18), (9.04673, 19), (9.05327, 20), (9.05344, 20), (9.05789, 19), (9.06476, 19), (9.06476, 20), (9.11658, 19), (9.11658, 20), (9.54882, 16), (9.58969, 19), (9.58969, 20), (9.59499, 17), (9.59524, 17), (9.59524, 19), (9.60072, 16), (9.60072, 19), (9.65117, 15), (9.69204, 15), (9.73542, 17), (10.00071, 16), (10.33026, 19), (10.86303, 19), (10.97215, 18), (11.31343, 17), (11.31343, 19), (11.3388, 16), (11.3388, 17), (11.3388, 18), (11.3388, 19), (11.52036, 14), (11.66667, 16), (11.66667, 17), (11.78794, 20), (11.83097, 18), (11.99954, 18), (12.00667, 17), (12.03133, 16), (12.03173, 15), (12.37609, 17), (12.6086, 15), (12.6086, 16), (12.6086, 17), (12.6086, 18), (13.66357, 19), (13.9773, 17), (14.16529, 18), (14.30883, 19), (14.30883, 20), (14.32736, 16), (14.34529, 20), (14.37433, 16), (14.39483, 19), (14.40967, 19), (14.42711, 20), (14.7, 18), (15.82958, 19), (37.36026, 17), (37.4676, 15), (37.4676, 16), (37.4676, 17), (37.4676, 18), (37.72578, 19), (37.97223, 18), (38.27596, 19), (38.70371, 20), (38.71515, 20), (38.71711, 16), (38.71711, 17), (38.71711, 18), (38.71711, 19), (38.71711, 20), (38.72335, 20), (38.72761, 19), (38.73706, 20), (38.75369, 20), (38.758, 16), (38.758, 18), (38.758, 19), (38.76187, 18), (38.772, 19), (38.772, 20), (38.77222, 19), (38.77222, 20), (38.7756, 19), (38.7756, 20), ...]\n",
       "\n",
       "[142 rows x 0 columns]"
      ]
     },
     "execution_count": 122,
     "metadata": {},
     "output_type": "execute_result"
    }
   ],
   "source": [
    "\n"
   ]
  },
  {
   "cell_type": "code",
   "execution_count": null,
   "id": "polyphonic-valley",
   "metadata": {},
   "outputs": [],
   "source": [
    "df_counts\n"
   ]
  },
  {
   "cell_type": "code",
   "execution_count": null,
   "id": "imposed-maine",
   "metadata": {},
   "outputs": [],
   "source": [
    "df_counts.to_csv('location_counts.csv')"
   ]
  },
  {
   "cell_type": "code",
   "execution_count": null,
   "id": "commercial-relative",
   "metadata": {},
   "outputs": [],
   "source": [
    "df.isna()"
   ]
  },
  {
   "cell_type": "code",
   "execution_count": null,
   "id": "current-orchestra",
   "metadata": {},
   "outputs": [],
   "source": [
    "df"
   ]
  },
  {
   "cell_type": "code",
   "execution_count": null,
   "id": "million-photography",
   "metadata": {},
   "outputs": [],
   "source": [
    "df.dtypes\n"
   ]
  },
  {
   "cell_type": "code",
   "execution_count": null,
   "id": "employed-exhibit",
   "metadata": {},
   "outputs": [],
   "source": [
    "df['Latitude'].unique()"
   ]
  },
  {
   "cell_type": "code",
   "execution_count": null,
   "id": "changing-hawaiian",
   "metadata": {},
   "outputs": [],
   "source": []
  },
  {
   "cell_type": "code",
   "execution_count": null,
   "id": "pursuant-mention",
   "metadata": {},
   "outputs": [],
   "source": []
  }
 ],
 "metadata": {
  "kernelspec": {
   "display_name": "Python 3",
   "language": "python",
   "name": "python3"
  },
  "language_info": {
   "codemirror_mode": {
    "name": "ipython",
    "version": 3
   },
   "file_extension": ".py",
   "mimetype": "text/x-python",
   "name": "python",
   "nbconvert_exporter": "python",
   "pygments_lexer": "ipython3",
   "version": "3.8.5"
  }
 },
 "nbformat": 4,
 "nbformat_minor": 5
}
