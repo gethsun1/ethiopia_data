{
 "cells": [
  {
   "cell_type": "code",
   "execution_count": 1,
   "id": "eight-ukraine",
   "metadata": {},
   "outputs": [],
   "source": [
    "import pandas as pd\n",
    "import folium"
   ]
  },
  {
   "cell_type": "code",
   "execution_count": 29,
   "id": "quick-multimedia",
   "metadata": {},
   "outputs": [],
   "source": [
    "googleSheetId = '1Yjk75jFIOdj0GXBjS_ok7CV96KlB8EKOWFuL9dwV1E4'\n",
    "\n",
    "workSheetName = 'Known_coordinates'\n",
    "\n",
    "url = 'https://docs.google.com/spreadsheets/d/{0}/gviz/tq?tqx=out:csv&sheet={1}'.format(\n",
    "    googleSheetId, \n",
    "    workSheetName\n",
    ")\n",
    "\n",
    "df = pd.read_csv(url)\n",
    "\n"
   ]
  },
  {
   "cell_type": "code",
   "execution_count": 30,
   "id": "alert-legislation",
   "metadata": {},
   "outputs": [],
   "source": [
    "pd.set_option('display.max_rows', 127)\n",
    "df.dropna(axis='columns', how='all', inplace=True)"
   ]
  },
  {
   "cell_type": "code",
   "execution_count": 51,
   "id": "developing-porcelain",
   "metadata": {},
   "outputs": [],
   "source": [
    "cent_df=df.groupby(['Century'])"
   ]
  },
  {
   "cell_type": "code",
   "execution_count": 52,
   "id": "accessory-cocktail",
   "metadata": {},
   "outputs": [],
   "source": [
    "cent_df = pd.DataFrame(cent_df['Latitude'].value_counts())"
   ]
  },
  {
   "cell_type": "code",
   "execution_count": null,
   "id": "blank-fighter",
   "metadata": {},
   "outputs": [],
   "source": []
  },
  {
   "cell_type": "code",
   "execution_count": null,
   "id": "unsigned-title",
   "metadata": {},
   "outputs": [],
   "source": []
  },
  {
   "cell_type": "code",
   "execution_count": 56,
   "id": "soviet-production",
   "metadata": {},
   "outputs": [],
   "source": [
    "cent_df_lat = pd.DataFrame(cent_df_lat)"
   ]
  },
  {
   "cell_type": "code",
   "execution_count": 57,
   "id": "processed-blend",
   "metadata": {},
   "outputs": [
    {
     "data": {
      "text/html": [
       "<div>\n",
       "<style scoped>\n",
       "    .dataframe tbody tr th:only-of-type {\n",
       "        vertical-align: middle;\n",
       "    }\n",
       "\n",
       "    .dataframe tbody tr th {\n",
       "        vertical-align: top;\n",
       "    }\n",
       "\n",
       "    .dataframe thead th {\n",
       "        text-align: right;\n",
       "    }\n",
       "</style>\n",
       "<table border=\"1\" class=\"dataframe\">\n",
       "  <thead>\n",
       "    <tr style=\"text-align: right;\">\n",
       "      <th></th>\n",
       "    </tr>\n",
       "  </thead>\n",
       "  <tbody>\n",
       "  </tbody>\n",
       "</table>\n",
       "</div>"
      ],
      "text/plain": [
       "Empty DataFrame\n",
       "Columns: []\n",
       "Index: []"
      ]
     },
     "execution_count": 57,
     "metadata": {},
     "output_type": "execute_result"
    }
   ],
   "source": [
    "cent_df_lat"
   ]
  },
  {
   "cell_type": "code",
   "execution_count": null,
   "id": "judicial-ultimate",
   "metadata": {},
   "outputs": [],
   "source": [
    "filt = df['Latitude'] == 8.98530\n",
    "df.loc[filt].value_counts()"
   ]
  },
  {
   "cell_type": "code",
   "execution_count": 10,
   "id": "silent-franklin",
   "metadata": {},
   "outputs": [],
   "source": [
    " df_counts = groups['Latitude'].value_counts()\n"
   ]
  },
  {
   "cell_type": "code",
   "execution_count": 11,
   "id": "polyphonic-valley",
   "metadata": {},
   "outputs": [
    {
     "data": {
      "text/plain": [
       "Latitude  Latitude\n",
       "8.86824   8.86824      2\n",
       "8.98530   8.98530      8\n",
       "9.00456   9.00456      1\n",
       "9.01039   9.01039      2\n",
       "9.01059   9.01059      3\n",
       "9.02862   9.02862      1\n",
       "9.03679   9.03679      1\n",
       "9.04673   9.04673      6\n",
       "9.05327   9.05327      4\n",
       "9.05344   9.05344      1\n",
       "9.05789   9.05789      1\n",
       "9.06476   9.06476     10\n",
       "9.11658   9.11658      3\n",
       "9.54882   9.54882      2\n",
       "9.58969   9.58969      2\n",
       "9.59499   9.59499      1\n",
       "9.59524   9.59524      2\n",
       "9.60072   9.60072      2\n",
       "9.65117   9.65117      1\n",
       "9.69204   9.69204      1\n",
       "9.73542   9.73542      1\n",
       "10.00071  10.00071     3\n",
       "10.33026  10.33026     2\n",
       "10.86303  10.86303     1\n",
       "10.97215  10.97215     3\n",
       "11.31343  11.31343     3\n",
       "11.33880  11.33880    10\n",
       "11.52036  11.52036     1\n",
       "11.66667  11.66667     2\n",
       "11.78794  11.78794     1\n",
       "11.83097  11.83097     1\n",
       "11.99954  11.99954     1\n",
       "12.00667  12.00667     1\n",
       "12.03133  12.03133     1\n",
       "12.03173  12.03173     1\n",
       "12.37609  12.37609     1\n",
       "12.60860  12.60860    27\n",
       "13.66357  13.66357     1\n",
       "13.97730  13.97730     1\n",
       "14.16529  14.16529     1\n",
       "14.30883  14.30883     2\n",
       "14.32736  14.32736     1\n",
       "14.34529  14.34529     1\n",
       "14.37433  14.37433     1\n",
       "14.39483  14.39483     1\n",
       "14.40967  14.40967     1\n",
       "14.42711  14.42711     1\n",
       "14.70000  14.70000     1\n",
       "15.82958  15.82958     1\n",
       "Name: Latitude, dtype: int64"
      ]
     },
     "execution_count": 11,
     "metadata": {},
     "output_type": "execute_result"
    }
   ],
   "source": [
    "df_counts\n"
   ]
  },
  {
   "cell_type": "code",
   "execution_count": null,
   "id": "imposed-maine",
   "metadata": {},
   "outputs": [],
   "source": [
    "df_counts.to_csv('location_counts.csv')"
   ]
  },
  {
   "cell_type": "code",
   "execution_count": null,
   "id": "commercial-relative",
   "metadata": {},
   "outputs": [],
   "source": [
    "df.isna()"
   ]
  },
  {
   "cell_type": "code",
   "execution_count": null,
   "id": "current-orchestra",
   "metadata": {},
   "outputs": [],
   "source": [
    "df"
   ]
  },
  {
   "cell_type": "code",
   "execution_count": null,
   "id": "million-photography",
   "metadata": {},
   "outputs": [],
   "source": [
    "df.dtypes\n"
   ]
  },
  {
   "cell_type": "code",
   "execution_count": null,
   "id": "employed-exhibit",
   "metadata": {},
   "outputs": [],
   "source": [
    "df['Latitude'].unique()"
   ]
  },
  {
   "cell_type": "code",
   "execution_count": null,
   "id": "changing-hawaiian",
   "metadata": {},
   "outputs": [],
   "source": []
  },
  {
   "cell_type": "code",
   "execution_count": null,
   "id": "pursuant-mention",
   "metadata": {},
   "outputs": [],
   "source": []
  }
 ],
 "metadata": {
  "kernelspec": {
   "display_name": "Python 3",
   "language": "python",
   "name": "python3"
  },
  "language_info": {
   "codemirror_mode": {
    "name": "ipython",
    "version": 3
   },
   "file_extension": ".py",
   "mimetype": "text/x-python",
   "name": "python",
   "nbconvert_exporter": "python",
   "pygments_lexer": "ipython3",
   "version": "3.8.5"
  }
 },
 "nbformat": 4,
 "nbformat_minor": 5
}
